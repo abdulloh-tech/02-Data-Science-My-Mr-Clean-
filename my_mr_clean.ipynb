{
 "cells": [
  {
   "cell_type": "markdown",
   "id": "66e84e9b",
   "metadata": {},
   "source": [
    "# My Mr Clean"
   ]
  },
  {
   "cell_type": "code",
   "execution_count": 78,
   "id": "c59da578",
   "metadata": {},
   "outputs": [],
   "source": [
    "# ! pip install seaborn"
   ]
  },
  {
   "cell_type": "code",
   "execution_count": 79,
   "id": "c896befe",
   "metadata": {},
   "outputs": [],
   "source": [
    "import requests\n",
    "import mylib as lib\n",
    "import re\n",
    "import pandas as pd\n",
    "import matplotlib.pyplot as plt\n",
    "import seaborn"
   ]
  },
  {
   "cell_type": "markdown",
   "id": "7a36747e",
   "metadata": {},
   "source": [
    "## 1. Get content from Wikipedia"
   ]
  },
  {
   "cell_type": "code",
   "execution_count": 80,
   "id": "131ed81e-61d7-4871-908c-ffded6bda3bd",
   "metadata": {},
   "outputs": [],
   "source": [
    "def get_content(title):\n",
    "    url = f\"https://en.wikipedia.org/w/api.php?action=query&prop=extracts&titles={title}&explaintext&format=json\"  \n",
    "    \n",
    "    respons = requests.get(url)\n",
    "    data = respons.json()\n",
    "    \n",
    "    return data"
   ]
  },
  {
   "cell_type": "code",
   "execution_count": 81,
   "id": "277aeec7-ddc0-4caa-9862-3b18c7c5a61c",
   "metadata": {},
   "outputs": [],
   "source": [
    "data = get_content(\"Ozone_layer\")"
   ]
  },
  {
   "cell_type": "code",
   "execution_count": 82,
   "id": "e88e5b93-d814-4aae-a80f-c6126f042b60",
   "metadata": {
    "scrolled": true
   },
   "outputs": [],
   "source": [
    "# data"
   ]
  },
  {
   "cell_type": "markdown",
   "id": "59d5a654",
   "metadata": {},
   "source": [
    "## 2. merge contents"
   ]
  },
  {
   "cell_type": "code",
   "execution_count": 83,
   "id": "0c84bc03",
   "metadata": {},
   "outputs": [],
   "source": [
    "def merge_contents(json_data):\n",
    "    key = list(json_data['query']['pages'].keys())[0]\n",
    "    data = str(json_data['query']['pages'][key]['extract'])\n",
    "\n",
    "    data = lib.drop_ab({'{':'}', '\\(' : '\\)'}, data)  \n",
    "\n",
    "    porridge = data.split(\"\\n\\n\\n\")\n",
    "    porridge = porridge[0:-4]\n",
    "\n",
    "    respons = \"\"\n",
    "    \n",
    "    for n in porridge:\n",
    "        n = lib.drop_symbol(n)\n",
    "        n = lib.drops([\"=\", ',', '.', ':', '\"', '-', '1', '2', '3', '4', '5', '6', '7', '8', '9', '0'], \" \", n)\n",
    "        respons += n\n",
    "    respons = lib.drops([\"\\n\", \"\\\\\"], \" \", respons)\n",
    "    return respons"
   ]
  },
  {
   "cell_type": "code",
   "execution_count": 84,
   "id": "1c0651f7",
   "metadata": {
    "scrolled": false
   },
   "outputs": [],
   "source": [
    "merge_content = merge_contents(data)"
   ]
  },
  {
   "cell_type": "code",
   "execution_count": 85,
   "id": "41f68327",
   "metadata": {
    "scrolled": true
   },
   "outputs": [],
   "source": [
    "# merge_content"
   ]
  },
  {
   "cell_type": "markdown",
   "id": "34c9818c",
   "metadata": {},
   "source": [
    "## 3. Tokenize"
   ]
  },
  {
   "cell_type": "code",
   "execution_count": 86,
   "id": "8e1dfe52",
   "metadata": {},
   "outputs": [],
   "source": [
    "def tokenize(content):\n",
    "    content = lib.drops([\",\", \".\"], \" \", content)\n",
    "    data = content.split(\" \")\n",
    "    data2 = []\n",
    "    for n in data:\n",
    "        if len(n) != 0:\n",
    "            data2.append(n)\n",
    "    \n",
    "    return data2"
   ]
  },
  {
   "cell_type": "code",
   "execution_count": 87,
   "id": "6e848bf5-767e-40fa-a524-d957945cb637",
   "metadata": {},
   "outputs": [],
   "source": [
    "collection = tokenize(merge_content)"
   ]
  },
  {
   "cell_type": "code",
   "execution_count": 88,
   "id": "6a6e834f-9d6a-4192-8120-02c47a49b456",
   "metadata": {},
   "outputs": [],
   "source": [
    "# collection"
   ]
  },
  {
   "cell_type": "markdown",
   "id": "88fefcff",
   "metadata": {},
   "source": [
    "## 4. Lower collection"
   ]
  },
  {
   "cell_type": "code",
   "execution_count": 89,
   "id": "ea928613-3c7a-4810-a8be-2d80494c2d3f",
   "metadata": {},
   "outputs": [],
   "source": [
    "def lower_collection(collection):\n",
    "    respons = []\n",
    "    for n in collection:\n",
    "        respons.append(n.lower())\n",
    "    return respons    "
   ]
  },
  {
   "cell_type": "code",
   "execution_count": 90,
   "id": "13c2bfd8",
   "metadata": {},
   "outputs": [],
   "source": [
    "lower_collection = lower_collection(collection)"
   ]
  },
  {
   "cell_type": "code",
   "execution_count": 91,
   "id": "898adfd5",
   "metadata": {},
   "outputs": [],
   "source": [
    "# lower_collection"
   ]
  },
  {
   "cell_type": "markdown",
   "id": "0b945a7c",
   "metadata": {},
   "source": [
    "## 5. Count frequensy"
   ]
  },
  {
   "cell_type": "code",
   "execution_count": 92,
   "id": "00b0d258-5cfe-4f5e-9e86-85e0f0d3208f",
   "metadata": {},
   "outputs": [],
   "source": [
    "def count_frequency(collection):\n",
    "    respons = {}\n",
    "    while 0 != len(collection):\n",
    "        word = collection.pop(0)\n",
    "        respons[word] = 1\n",
    "        for n in collection:\n",
    "            if n == word:\n",
    "                collection.remove(n)\n",
    "                respons[word] += 1\n",
    "    return respons"
   ]
  },
  {
   "cell_type": "code",
   "execution_count": 93,
   "id": "1d8c03be-c433-43ee-87b9-2fbe588a1c2c",
   "metadata": {},
   "outputs": [],
   "source": [
    "frequencies = count_frequency(lower_collection[0:-1])"
   ]
  },
  {
   "cell_type": "code",
   "execution_count": 94,
   "id": "c238b9a9",
   "metadata": {},
   "outputs": [],
   "source": [
    "# frequencies"
   ]
  },
  {
   "cell_type": "markdown",
   "id": "3ffdf11a",
   "metadata": {},
   "source": [
    "## 6. Visualizing"
   ]
  },
  {
   "cell_type": "code",
   "execution_count": 95,
   "id": "b4904086",
   "metadata": {},
   "outputs": [],
   "source": [
    "import seaborn as sns\n",
    "import matplotlib.pyplot as plt"
   ]
  },
  {
   "cell_type": "code",
   "execution_count": 125,
   "id": "c6d837d6",
   "metadata": {},
   "outputs": [],
   "source": [
    "def print_most_frequent(frequencies, n):\n",
    "    keys, values = [], []\n",
    "    for key, value in frequencies.items():\n",
    "        keys.append(key)\n",
    "        values.append(value)\n",
    "\n",
    "#     sns.set(style=\"darkgrid\")\n",
    "    df = pd.DataFrame({\"words\" : keys, \"frequent\" : values})\n",
    "    df = df.sort_values(by=[\"frequent\"], ascending=False).head(n)\n",
    "    \n",
    "    plt.style.use('dark_background')\n",
    "    f, ax = plt.subplots(figsize=(20, 15))\n",
    "    ax.grid(False)\n",
    "    sns.set_color_codes(\"muted\")\n",
    "    sns.set(style=\"darkgrid\")\n",
    "    sns.barplot(x=\"frequent\", y=\"words\", data=df, label=\"Ozare Layer\",  orient = \"h\").set(title='Most Common Tokens  In The Ozone Layers article')\n",
    "    \n",
    "    \n",
    "    "
   ]
  },
  {
   "cell_type": "code",
   "execution_count": 129,
   "id": "fd54c142",
   "metadata": {},
   "outputs": [
    {
     "data": {
      "image/png": "[encoded data removed]",
      "text/plain": [
       "<Figure size 1440x1080 with 1 Axes>"
      ]
     },
     "metadata": {},
     "output_type": "display_data"
    }
   ],
   "source": [
    "print_most_frequent(frequencies, 20)"
   ]
  },
  {
   "cell_type": "markdown",
   "id": "57bd48da",
   "metadata": {},
   "source": [
    "## 7.Filtering"
   ]
  },
  {
   "cell_type": "code",
   "execution_count": 36,
   "id": "73293496",
   "metadata": {},
   "outputs": [],
   "source": [
    "# frequencies"
   ]
  },
  {
   "cell_type": "code",
   "execution_count": 110,
   "id": "8e274bf2",
   "metadata": {},
   "outputs": [],
   "source": [
    "def remove_stop_words(words, stop_words):\n",
    "    copy_words = {}\n",
    "    for key, value in words.items():\n",
    "        copy_words[key] = value\n",
    "\n",
    "    keys = []\n",
    "    for key, value in copy_words.items():\n",
    "        for word in stop_words:\n",
    "            if key == word:\n",
    "                keys.append(key)\n",
    "\n",
    "    for key in keys:\n",
    "        copy_words.pop(key)\n",
    "    return copy_words"
   ]
  },
  {
   "cell_type": "code",
   "execution_count": 111,
   "id": "4b759cd5",
   "metadata": {},
   "outputs": [],
   "source": [
    "stop_words = [\"the\", 'a', \"of\", \"is\", \"and\", \"by\", \"to\", \"that\", \"are\", \"at\", \"on\", 'an', \"uv\", 'for', 'be', 'it', 'as', 'this', 'about', 'from', 'these', 'has', 'do', 's', 'so', 'out', 'or', 'du']\n",
    "\n",
    "filtered_collection = remove_stop_words(frequencies, stop_words)"
   ]
  },
  {
   "cell_type": "code",
   "execution_count": 112,
   "id": "cdacf3d3",
   "metadata": {},
   "outputs": [],
   "source": [
    "# filtered_collection"
   ]
  },
  {
   "cell_type": "code",
   "execution_count": 113,
   "id": "4295ac6d",
   "metadata": {},
   "outputs": [
    {
     "data": {
      "image/png": "[encoded data removed]",
      "text/plain": [
       "<Figure size 1440x1080 with 1 Axes>"
      ]
     },
     "metadata": {},
     "output_type": "display_data"
    }
   ],
   "source": [
    "print_most_frequent(filtered_collection, 25)"
   ]
  },
  {
   "cell_type": "code",
   "execution_count": null,
   "id": "ae7db2a7",
   "metadata": {},
   "outputs": [],
   "source": []
  },
  {
   "cell_type": "markdown",
   "id": "015a6496",
   "metadata": {},
   "source": [
    "## Testing"
   ]
  },
  {
   "cell_type": "code",
   "execution_count": 120,
   "id": "172fdeeb",
   "metadata": {},
   "outputs": [
    {
     "name": "stdout",
     "output_type": "stream",
     "text": [
      "\n",
      "\u001b[94m\n",
      " ██████╗ ██╗    ██╗ █████╗ ███████╗ █████╗ ██████╗    ██╗ ██████╗ \n",
      "██╔═══██╗██║    ██║██╔══██╗██╔════╝██╔══██╗██╔══██╗   ██║██╔═══██╗\n",
      "██║   ██║██║ █╗ ██║███████║███████╗███████║██████╔╝   ██║██║   ██║\n",
      "██║▄▄ ██║██║███╗██║██╔══██║╚════██║██╔══██║██╔══██╗   ██║██║   ██║\n",
      "╚██████╔╝╚███╔███╔╝██║  ██║███████║██║  ██║██║  ██║██╗██║╚██████╔╝\n",
      " ╚══▀▀═╝  ╚══╝╚══╝ ╚═╝  ╚═╝╚══════╝╚═╝  ╚═╝╚═╝  ╚═╝╚═╝╚═╝ ╚═════╝ \n",
      "\t\t\t\t\t\t\t\t\t\t\t\t\t\t\t\t\t\t\t\t\t\t\t\t\t\t\t\t\t\t\t\t \u001b[0m\n",
      "Booting Gandalf v4.1.12-deab022 (production)\n",
      "Loading parameters:  \u001b[32mOK\u001b[0m\n",
      "User temirov_s connection: \u001b[32mOK\u001b[0m\n",
      "\n",
      "\n",
      "<MY_MR_CLEAN>\n",
      "Directory . exists: \u001b[32mOK\u001b[0m\n",
      "Pushing exercise: \u001b[32mOK\u001b[0m\n",
      "Printing your report:\n",
      "\n",
      " \u001b[97;1;40m     REPORT      \u001b[0m  \u001b[97mMY MR CLEAN\u001b[0m \n",
      "\n",
      " Status             \u001b[92mSUCCESS\u001b[0m     \n",
      " Execution Runtime  4.163628    \n",
      " Score              [\u001b[32m=\u001b[0m\u001b[32m=\u001b[0m\u001b[32m=\u001b[0m\u001b[32m=\u001b[0m\u001b[32m=\u001b[0m] 5/5 \n",
      "\n",
      "\n",
      "Checks detail Report:\n",
      "\n",
      " \u001b[97;1;40mTEST COUNT FREQUENCY\u001b[0m  \u001b[92mSUCCESS\u001b[0m \n",
      "\n",
      "\n",
      "\n",
      " \u001b[97;1;40mTEST GET CONTENT\u001b[0m  \u001b[92mSUCCESS\u001b[0m \n",
      "\n",
      "\n",
      "\n",
      " \u001b[97;1;40mTEST LOWER COLLECTION\u001b[0m  \u001b[92mSUCCESS\u001b[0m \n",
      "\n",
      "\n",
      "\n",
      " \u001b[97;1;40mTEST MERGE CONTENTS\u001b[0m  \u001b[92mSUCCESS\u001b[0m \n",
      "\n",
      "\n",
      "\n",
      " \u001b[97;1;40mTEST TOKENIZE\u001b[0m  \u001b[92mSUCCESS\u001b[0m \n",
      "\n",
      "\n",
      "</MY_MR_CLEAN>\n"
     ]
    }
   ],
   "source": [
    "! gandalf"
   ]
  }
 ],
 "metadata": {
  "kernelspec": {
   "display_name": "Python 3",
   "language": "python",
   "name": "python3"
  },
  "language_info": {
   "codemirror_mode": {
    "name": "ipython",
    "version": 3
   },
   "file_extension": ".py",
   "mimetype": "text/x-python",
   "name": "python",
   "nbconvert_exporter": "python",
   "pygments_lexer": "ipython3",
   "version": "3.6.7"
  }
 },
 "nbformat": 4,
 "nbformat_minor": 5
}
