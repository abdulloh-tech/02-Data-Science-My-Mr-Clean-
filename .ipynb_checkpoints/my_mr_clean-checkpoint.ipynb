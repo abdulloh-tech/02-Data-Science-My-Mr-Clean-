{
 "cells": [
  {
   "cell_type": "code",
   "execution_count": 2,
   "id": "19fda508",
   "metadata": {},
   "outputs": [],
   "source": [
    "import requests\n",
    "from bs4 import BeautifulSoup\n",
    "import re\n",
    "from matplotlib import pyplot as plt\n",
    "# !pip install seaborn\n",
    "import seaborn as sns"
   ]
  },
  {
   "cell_type": "code",
   "execution_count": 3,
   "id": "3306068f",
   "metadata": {
    "scrolled": true
   },
   "outputs": [],
   "source": [
    "def get_content(article_name):\n",
    "    url = \"https://en.wikipedia.org/w/api.php\"\n",
    "    data = requests.get(url, params={\"action\":\"query\", \"prop\":\"extracts\", \"titles\":\"article_name\", \"format\":\"json\"})\n",
    "    return data.json()\n",
    "data = get_content(\"Ozone_layer\")"
   ]
  },
  {
   "cell_type": "code",
   "execution_count": 5,
   "id": "b068b45f",
   "metadata": {},
   "outputs": [],
   "source": [
    "# def merge_contents(data):\n",
    "#     required_data = data[\"query\"][\"pages\"][\"22834\"][\"extract\"]\n",
    "#     required_data_without_html = BeautifulSoup(required_data, \"html.parser\").text\n",
    "#     return required_data_without_html\n",
    "# merge_content = merge_contents(data)\n",
    "\n",
    "def merge_contents(data):\n",
    "  try:\n",
    "    required_data = data[\"query\"][\"pages\"][\"22834\"][\"extract\"]\n",
    "    required_data_without_html = BeautifulSoup(required_data, \"html.parser\").text\n",
    "    return required_data_without_html\n",
    "  except KeyError:\n",
    "    # Handle the case where the key is not found\n",
    "    return \"Required data not found in provided structure\"  # Or any other appropriate message\n",
    "\n",
    "merge_content = merge_contents(data)\n"
   ]
  },
  {
   "cell_type": "code",
   "execution_count": 6,
   "id": "3eceda6f-43ec-45ca-86e3-a862c465dd54",
   "metadata": {},
   "outputs": [],
   "source": [
    "def merge_contents(data):\n",
    "  required_data = data.get(\"query\", {}).get(\"pages\", {}).get(\"22834\", {}).get(\"extract\", \"\")\n",
    "  required_data_without_html = BeautifulSoup(required_data, \"html.parser\").text\n",
    "  return required_data_without_html\n",
    "\n",
    "merge_content = merge_contents(data)\n"
   ]
  },
  {
   "cell_type": "code",
   "execution_count": 7,
   "id": "ad4dc8a7",
   "metadata": {},
   "outputs": [],
   "source": [
    "def tokenize(content):\n",
    "    splitter = re.split(\"\\. |, |\\.|\\n| |-|\\'\", content)\n",
    "    words = []\n",
    "    for i in splitter:\n",
    "        if i.isalpha():\n",
    "            words.append(i)\n",
    "    return words\n",
    "collection = tokenize(merge_content)"
   ]
  },
  {
   "cell_type": "code",
   "execution_count": 8,
   "id": "f4a2336d",
   "metadata": {},
   "outputs": [],
   "source": [
    "def lower_collection(collection):\n",
    "    return [word.lower() for word in collection ]\n",
    "lower_word_list = lower_collection(collection)"
   ]
  },
  {
   "cell_type": "code",
   "execution_count": 9,
   "id": "7747cb76",
   "metadata": {},
   "outputs": [],
   "source": [
    "def count_frequency(collection):\n",
    "    frequency = {}\n",
    "    for word in collection:\n",
    "        if word in frequency:\n",
    "            frequency[word] += 1\n",
    "        else:\n",
    "            frequency[word] = 1\n",
    "    return {k: v for k, v in sorted(frequency.items(), key=lambda item: item[1], reverse=True)}\n",
    "frequencies = count_frequency(lower_word_list) "
   ]
  },
  {
   "cell_type": "code",
   "execution_count": 17,
   "id": "ed499374",
   "metadata": {},
   "outputs": [
    {
     "ename": "ValueError",
     "evalue": "min() arg is an empty sequence",
     "output_type": "error",
     "traceback": [
      "\u001b[0;31m---------------------------------------------------------------------------\u001b[0m",
      "\u001b[0;31mValueError\u001b[0m                                Traceback (most recent call last)",
      "\u001b[0;32m<ipython-input-17-7acd4f2a122e>\u001b[0m in \u001b[0;36m<module>\u001b[0;34m\u001b[0m\n\u001b[1;32m      5\u001b[0m     \u001b[0msns\u001b[0m\u001b[0;34m.\u001b[0m\u001b[0mbarplot\u001b[0m\u001b[0;34m(\u001b[0m\u001b[0mx\u001b[0m\u001b[0;34m=\u001b[0m\u001b[0mv\u001b[0m\u001b[0;34m[\u001b[0m\u001b[0;36m0\u001b[0m\u001b[0;34m:\u001b[0m\u001b[0;36m20\u001b[0m\u001b[0;34m]\u001b[0m\u001b[0;34m,\u001b[0m\u001b[0my\u001b[0m\u001b[0;34m=\u001b[0m\u001b[0mk\u001b[0m\u001b[0;34m[\u001b[0m\u001b[0;36m0\u001b[0m\u001b[0;34m:\u001b[0m\u001b[0;36m20\u001b[0m\u001b[0;34m]\u001b[0m\u001b[0;34m)\u001b[0m\u001b[0;34m\u001b[0m\u001b[0;34m\u001b[0m\u001b[0m\n\u001b[1;32m      6\u001b[0m     \u001b[0mplt\u001b[0m\u001b[0;34m.\u001b[0m\u001b[0mshow\u001b[0m\u001b[0;34m(\u001b[0m\u001b[0;34m)\u001b[0m\u001b[0;34m\u001b[0m\u001b[0;34m\u001b[0m\u001b[0m\n\u001b[0;32m----> 7\u001b[0;31m \u001b[0mprint_most_frequent\u001b[0m\u001b[0;34m(\u001b[0m\u001b[0mfrequencies\u001b[0m\u001b[0;34m,\u001b[0m \u001b[0;36m10\u001b[0m\u001b[0;34m)\u001b[0m\u001b[0;34m\u001b[0m\u001b[0;34m\u001b[0m\u001b[0m\n\u001b[0m",
      "\u001b[0;32m<ipython-input-17-7acd4f2a122e>\u001b[0m in \u001b[0;36mprint_most_frequent\u001b[0;34m(frequencies, n)\u001b[0m\n\u001b[1;32m      3\u001b[0m     \u001b[0mv\u001b[0m \u001b[0;34m=\u001b[0m \u001b[0;34m[\u001b[0m\u001b[0mv\u001b[0m \u001b[0;32mfor\u001b[0m \u001b[0mk\u001b[0m\u001b[0;34m,\u001b[0m\u001b[0mv\u001b[0m \u001b[0;32min\u001b[0m \u001b[0mfrequencies\u001b[0m\u001b[0;34m.\u001b[0m\u001b[0mitems\u001b[0m\u001b[0;34m(\u001b[0m\u001b[0;34m)\u001b[0m\u001b[0;34m]\u001b[0m\u001b[0;34m\u001b[0m\u001b[0;34m\u001b[0m\u001b[0m\n\u001b[1;32m      4\u001b[0m     \u001b[0mplt\u001b[0m\u001b[0;34m.\u001b[0m\u001b[0mfigure\u001b[0m\u001b[0;34m(\u001b[0m\u001b[0mfigsize\u001b[0m\u001b[0;34m=\u001b[0m\u001b[0;34m(\u001b[0m\u001b[0;36m12\u001b[0m\u001b[0;34m,\u001b[0m\u001b[0;36m12\u001b[0m\u001b[0;34m)\u001b[0m\u001b[0;34m)\u001b[0m\u001b[0;34m\u001b[0m\u001b[0;34m\u001b[0m\u001b[0m\n\u001b[0;32m----> 5\u001b[0;31m     \u001b[0msns\u001b[0m\u001b[0;34m.\u001b[0m\u001b[0mbarplot\u001b[0m\u001b[0;34m(\u001b[0m\u001b[0mx\u001b[0m\u001b[0;34m=\u001b[0m\u001b[0mv\u001b[0m\u001b[0;34m[\u001b[0m\u001b[0;36m0\u001b[0m\u001b[0;34m:\u001b[0m\u001b[0;36m20\u001b[0m\u001b[0;34m]\u001b[0m\u001b[0;34m,\u001b[0m\u001b[0my\u001b[0m\u001b[0;34m=\u001b[0m\u001b[0mk\u001b[0m\u001b[0;34m[\u001b[0m\u001b[0;36m0\u001b[0m\u001b[0;34m:\u001b[0m\u001b[0;36m20\u001b[0m\u001b[0;34m]\u001b[0m\u001b[0;34m)\u001b[0m\u001b[0;34m\u001b[0m\u001b[0;34m\u001b[0m\u001b[0m\n\u001b[0m\u001b[1;32m      6\u001b[0m     \u001b[0mplt\u001b[0m\u001b[0;34m.\u001b[0m\u001b[0mshow\u001b[0m\u001b[0;34m(\u001b[0m\u001b[0;34m)\u001b[0m\u001b[0;34m\u001b[0m\u001b[0;34m\u001b[0m\u001b[0m\n\u001b[1;32m      7\u001b[0m \u001b[0mprint_most_frequent\u001b[0m\u001b[0;34m(\u001b[0m\u001b[0mfrequencies\u001b[0m\u001b[0;34m,\u001b[0m \u001b[0;36m10\u001b[0m\u001b[0;34m)\u001b[0m\u001b[0;34m\u001b[0m\u001b[0;34m\u001b[0m\u001b[0m\n",
      "\u001b[0;32m~/.pyenv/versions/3.6.7/lib/python3.6/site-packages/seaborn/_decorators.py\u001b[0m in \u001b[0;36minner_f\u001b[0;34m(*args, **kwargs)\u001b[0m\n\u001b[1;32m     44\u001b[0m             )\n\u001b[1;32m     45\u001b[0m         \u001b[0mkwargs\u001b[0m\u001b[0;34m.\u001b[0m\u001b[0mupdate\u001b[0m\u001b[0;34m(\u001b[0m\u001b[0;34m{\u001b[0m\u001b[0mk\u001b[0m\u001b[0;34m:\u001b[0m \u001b[0marg\u001b[0m \u001b[0;32mfor\u001b[0m \u001b[0mk\u001b[0m\u001b[0;34m,\u001b[0m \u001b[0marg\u001b[0m \u001b[0;32min\u001b[0m \u001b[0mzip\u001b[0m\u001b[0;34m(\u001b[0m\u001b[0msig\u001b[0m\u001b[0;34m.\u001b[0m\u001b[0mparameters\u001b[0m\u001b[0;34m,\u001b[0m \u001b[0margs\u001b[0m\u001b[0;34m)\u001b[0m\u001b[0;34m}\u001b[0m\u001b[0;34m)\u001b[0m\u001b[0;34m\u001b[0m\u001b[0;34m\u001b[0m\u001b[0m\n\u001b[0;32m---> 46\u001b[0;31m         \u001b[0;32mreturn\u001b[0m \u001b[0mf\u001b[0m\u001b[0;34m(\u001b[0m\u001b[0;34m**\u001b[0m\u001b[0mkwargs\u001b[0m\u001b[0;34m)\u001b[0m\u001b[0;34m\u001b[0m\u001b[0;34m\u001b[0m\u001b[0m\n\u001b[0m\u001b[1;32m     47\u001b[0m     \u001b[0;32mreturn\u001b[0m \u001b[0minner_f\u001b[0m\u001b[0;34m\u001b[0m\u001b[0;34m\u001b[0m\u001b[0m\n\u001b[1;32m     48\u001b[0m \u001b[0;34m\u001b[0m\u001b[0m\n",
      "\u001b[0;32m~/.pyenv/versions/3.6.7/lib/python3.6/site-packages/seaborn/categorical.py\u001b[0m in \u001b[0;36mbarplot\u001b[0;34m(x, y, hue, data, order, hue_order, estimator, ci, n_boot, units, seed, orient, color, palette, saturation, errcolor, errwidth, capsize, dodge, ax, **kwargs)\u001b[0m\n\u001b[1;32m   3183\u001b[0m                           \u001b[0mestimator\u001b[0m\u001b[0;34m,\u001b[0m \u001b[0mci\u001b[0m\u001b[0;34m,\u001b[0m \u001b[0mn_boot\u001b[0m\u001b[0;34m,\u001b[0m \u001b[0munits\u001b[0m\u001b[0;34m,\u001b[0m \u001b[0mseed\u001b[0m\u001b[0;34m,\u001b[0m\u001b[0;34m\u001b[0m\u001b[0;34m\u001b[0m\u001b[0m\n\u001b[1;32m   3184\u001b[0m                           \u001b[0morient\u001b[0m\u001b[0;34m,\u001b[0m \u001b[0mcolor\u001b[0m\u001b[0;34m,\u001b[0m \u001b[0mpalette\u001b[0m\u001b[0;34m,\u001b[0m \u001b[0msaturation\u001b[0m\u001b[0;34m,\u001b[0m\u001b[0;34m\u001b[0m\u001b[0;34m\u001b[0m\u001b[0m\n\u001b[0;32m-> 3185\u001b[0;31m                           errcolor, errwidth, capsize, dodge)\n\u001b[0m\u001b[1;32m   3186\u001b[0m \u001b[0;34m\u001b[0m\u001b[0m\n\u001b[1;32m   3187\u001b[0m     \u001b[0;32mif\u001b[0m \u001b[0max\u001b[0m \u001b[0;32mis\u001b[0m \u001b[0;32mNone\u001b[0m\u001b[0;34m:\u001b[0m\u001b[0;34m\u001b[0m\u001b[0;34m\u001b[0m\u001b[0m\n",
      "\u001b[0;32m~/.pyenv/versions/3.6.7/lib/python3.6/site-packages/seaborn/categorical.py\u001b[0m in \u001b[0;36m__init__\u001b[0;34m(self, x, y, hue, data, order, hue_order, estimator, ci, n_boot, units, seed, orient, color, palette, saturation, errcolor, errwidth, capsize, dodge)\u001b[0m\n\u001b[1;32m   1584\u001b[0m         self.establish_variables(x, y, hue, data, orient,\n\u001b[1;32m   1585\u001b[0m                                  order, hue_order, units)\n\u001b[0;32m-> 1586\u001b[0;31m         \u001b[0mself\u001b[0m\u001b[0;34m.\u001b[0m\u001b[0mestablish_colors\u001b[0m\u001b[0;34m(\u001b[0m\u001b[0mcolor\u001b[0m\u001b[0;34m,\u001b[0m \u001b[0mpalette\u001b[0m\u001b[0;34m,\u001b[0m \u001b[0msaturation\u001b[0m\u001b[0;34m)\u001b[0m\u001b[0;34m\u001b[0m\u001b[0;34m\u001b[0m\u001b[0m\n\u001b[0m\u001b[1;32m   1587\u001b[0m         \u001b[0mself\u001b[0m\u001b[0;34m.\u001b[0m\u001b[0mestimate_statistic\u001b[0m\u001b[0;34m(\u001b[0m\u001b[0mestimator\u001b[0m\u001b[0;34m,\u001b[0m \u001b[0mci\u001b[0m\u001b[0;34m,\u001b[0m \u001b[0mn_boot\u001b[0m\u001b[0;34m,\u001b[0m \u001b[0mseed\u001b[0m\u001b[0;34m)\u001b[0m\u001b[0;34m\u001b[0m\u001b[0;34m\u001b[0m\u001b[0m\n\u001b[1;32m   1588\u001b[0m \u001b[0;34m\u001b[0m\u001b[0m\n",
      "\u001b[0;32m~/.pyenv/versions/3.6.7/lib/python3.6/site-packages/seaborn/categorical.py\u001b[0m in \u001b[0;36mestablish_colors\u001b[0;34m(self, color, palette, saturation)\u001b[0m\n\u001b[1;32m    317\u001b[0m         \u001b[0;31m# Determine the gray color to use for the lines framing the plot\u001b[0m\u001b[0;34m\u001b[0m\u001b[0;34m\u001b[0m\u001b[0;34m\u001b[0m\u001b[0m\n\u001b[1;32m    318\u001b[0m         \u001b[0mlight_vals\u001b[0m \u001b[0;34m=\u001b[0m \u001b[0;34m[\u001b[0m\u001b[0mcolorsys\u001b[0m\u001b[0;34m.\u001b[0m\u001b[0mrgb_to_hls\u001b[0m\u001b[0;34m(\u001b[0m\u001b[0;34m*\u001b[0m\u001b[0mc\u001b[0m\u001b[0;34m)\u001b[0m\u001b[0;34m[\u001b[0m\u001b[0;36m1\u001b[0m\u001b[0;34m]\u001b[0m \u001b[0;32mfor\u001b[0m \u001b[0mc\u001b[0m \u001b[0;32min\u001b[0m \u001b[0mrgb_colors\u001b[0m\u001b[0;34m]\u001b[0m\u001b[0;34m\u001b[0m\u001b[0;34m\u001b[0m\u001b[0m\n\u001b[0;32m--> 319\u001b[0;31m         \u001b[0mlum\u001b[0m \u001b[0;34m=\u001b[0m \u001b[0mmin\u001b[0m\u001b[0;34m(\u001b[0m\u001b[0mlight_vals\u001b[0m\u001b[0;34m)\u001b[0m \u001b[0;34m*\u001b[0m \u001b[0;36m.6\u001b[0m\u001b[0;34m\u001b[0m\u001b[0;34m\u001b[0m\u001b[0m\n\u001b[0m\u001b[1;32m    320\u001b[0m         \u001b[0mgray\u001b[0m \u001b[0;34m=\u001b[0m \u001b[0mmpl\u001b[0m\u001b[0;34m.\u001b[0m\u001b[0mcolors\u001b[0m\u001b[0;34m.\u001b[0m\u001b[0mrgb2hex\u001b[0m\u001b[0;34m(\u001b[0m\u001b[0;34m(\u001b[0m\u001b[0mlum\u001b[0m\u001b[0;34m,\u001b[0m \u001b[0mlum\u001b[0m\u001b[0;34m,\u001b[0m \u001b[0mlum\u001b[0m\u001b[0;34m)\u001b[0m\u001b[0;34m)\u001b[0m\u001b[0;34m\u001b[0m\u001b[0;34m\u001b[0m\u001b[0m\n\u001b[1;32m    321\u001b[0m \u001b[0;34m\u001b[0m\u001b[0m\n",
      "\u001b[0;31mValueError\u001b[0m: min() arg is an empty sequence"
     ]
    },
    {
     "data": {
      "text/plain": [
       "<Figure size 864x864 with 0 Axes>"
      ]
     },
     "metadata": {},
     "output_type": "display_data"
    }
   ],
   "source": [
    "def print_most_frequent(frequencies, n):\n",
    "    k = [k for k,v in frequencies.items()]\n",
    "    v = [v for k,v in frequencies.items()]\n",
    "    plt.figure(figsize=(12,12))\n",
    "    sns.barplot(x=v[0:20],y=k[0:20])\n",
    "    plt.show()\n",
    "print_most_frequent(frequencies, 10)"
   ]
  },
  {
   "cell_type": "code",
   "execution_count": null,
   "id": "3cb49b96",
   "metadata": {},
   "outputs": [],
   "source": [
    "stop_words = [\"the\", \"of\", \"and\", \"in\", \"to\", \"is\", \"a\", \"an\", \"by\", \"that\", \"for\", \"was\", \"were\", \"are\", \"from\", \"at\", \"it\", \"as\", \"be\", \"these\", \"on\", \"with\", \"this\", \"have\", \"has\", \"othere\", \"beacause\", \"can\", \"its\", \"out\", \"about\", \"into\", \"or\", \"over\", \"all\", \"most, which\", \"less\", \"while\", \"above\", \"than\", \"s\", \"a\", \"b\"]"
   ]
  },
  {
   "cell_type": "code",
   "execution_count": 32,
   "id": "a1cb8b43",
   "metadata": {},
   "outputs": [],
   "source": [
    "def remove_stop_words(words, stop_words):\n",
    "    return [i for i in words if i not in stop_words]\n",
    "filtered_collection = remove_stop_words(frequencies, stop_words)"
   ]
  },
  {
   "cell_type": "code",
   "execution_count": 33,
   "id": "9996ea47",
   "metadata": {},
   "outputs": [
    {
     "data": {
      "image/png": "[encoded data removed]",
      "text/plain": [
       "<Figure size 864x864 with 1 Axes>"
      ]
     },
     "metadata": {
      "needs_background": "light"
     },
     "output_type": "display_data"
    }
   ],
   "source": [
    "def print_most_frequent_filtered_collection(frequencies):\n",
    "    frequency = {}\n",
    "    for word in frequencies:\n",
    "        if word in frequency:\n",
    "            frequency[word] += 1\n",
    "        else:\n",
    "            frequency[word] = 1 \n",
    "    k = [k for k,v in frequency.items()]\n",
    "    v = [v for k,v in frequency.items()]\n",
    "    plt.figure(figsize=(12,12))\n",
    "    sns.barplot(x=v[0:20],y=k[0:20])\n",
    "    plt.show()\n",
    "print_most_frequent_filtered_collection(filtered_collection)"
   ]
  },
  {
   "cell_type": "code",
   "execution_count": 19,
   "id": "3c9d986c",
   "metadata": {},
   "outputs": [
    {
     "name": "stdout",
     "output_type": "stream",
     "text": [
      "\n",
      "\u001b[92m\n",
      " ██████╗ ██╗    ██╗ █████╗ ███████╗ █████╗ ██████╗    ██╗ ██████╗ \n",
      "██╔═══██╗██║    ██║██╔══██╗██╔════╝██╔══██╗██╔══██╗   ██║██╔═══██╗\n",
      "██║   ██║██║ █╗ ██║███████║███████╗███████║██████╔╝   ██║██║   ██║\n",
      "██║▄▄ ██║██║███╗██║██╔══██║╚════██║██╔══██║██╔══██╗   ██║██║   ██║\n",
      "╚██████╔╝╚███╔███╔╝██║  ██║███████║██║  ██║██║  ██║██╗██║╚██████╔╝\n",
      " ╚══▀▀═╝  ╚══╝╚══╝ ╚═╝  ╚═╝╚══════╝╚═╝  ╚═╝╚═╝  ╚═╝╚═╝╚═╝ ╚═════╝ \n",
      "\t\t\t\t\t\t\t\t\t\t\t\t\t\t\t\t\t\t\t\t\t\t\t\t\t\t\t\t\t\t\t\t \u001b[0m\n",
      "Booting Gandalf v4.0.3-df2e622 (production)\n",
      "Loading parameters:  \u001b[32mOK\u001b[0m\n",
      "User avliyoqu_m connection: \u001b[32mOK\u001b[0m\n",
      "\n",
      "\n",
      "<MY-MR-CLEAN>\n",
      "Directory . exists: \u001b[32mOK\u001b[0m\n",
      "Pushing exercise: \u001b[32mOK\u001b[0m\n",
      "Printing your report:\n",
      "\n",
      " \u001b[97;1;40m     REPORT      \u001b[0m  \u001b[97mMY-MR-CLEAN\u001b[0m \n",
      "\n",
      " Status             \u001b[92mSUCCESS\u001b[0m     \n",
      " Execution Runtime  6.428734    \n",
      " Score              [\u001b[32m=\u001b[0m\u001b[32m=\u001b[0m\u001b[32m=\u001b[0m\u001b[32m=\u001b[0m\u001b[32m=\u001b[0m] 5/5 \n",
      "\n",
      "\n",
      "Checks detail Report:\n",
      "\n",
      " \u001b[97;1;40mTEST COUNT FREQUENCY\u001b[0m  \u001b[92mSUCCESS\u001b[0m \n",
      "\n",
      "\n",
      "\n",
      " \u001b[97;1;40mTEST GET CONTENT\u001b[0m  \u001b[92mSUCCESS\u001b[0m \n",
      "\n",
      "\n",
      "\n",
      " \u001b[97;1;40mTEST LOWER COLLECTION\u001b[0m  \u001b[92mSUCCESS\u001b[0m \n",
      "\n",
      "\n",
      "\n",
      " \u001b[97;1;40mTEST MERGE CONTENTS\u001b[0m  \u001b[92mSUCCESS\u001b[0m \n",
      "\n",
      "\n",
      "\n",
      " \u001b[97;1;40mTEST TOKENIZE\u001b[0m  \u001b[92mSUCCESS\u001b[0m \n",
      "\n",
      "\n",
      "</MY-MR-CLEAN>\n"
     ]
    }
   ],
   "source": [
    "!gandalf"
   ]
  },
  {
   "cell_type": "code",
   "execution_count": 1,
   "id": "905406f4",
   "metadata": {},
   "outputs": [
    {
     "name": "stdout",
     "output_type": "stream",
     "text": [
      "\n",
      "\u001b[94m\n",
      " ██████╗ ██╗    ██╗ █████╗ ███████╗ █████╗ ██████╗    ██╗ ██████╗ \n",
      "██╔═══██╗██║    ██║██╔══██╗██╔════╝██╔══██╗██╔══██╗   ██║██╔═══██╗\n",
      "██║   ██║██║ █╗ ██║███████║███████╗███████║██████╔╝   ██║██║   ██║\n",
      "██║▄▄ ██║██║███╗██║██╔══██║╚════██║██╔══██║██╔══██╗   ██║██║   ██║\n",
      "╚██████╔╝╚███╔███╔╝██║  ██║███████║██║  ██║██║  ██║██╗██║╚██████╔╝\n",
      " ╚══▀▀═╝  ╚══╝╚══╝ ╚═╝  ╚═╝╚══════╝╚═╝  ╚═╝╚═╝  ╚═╝╚═╝╚═╝ ╚═════╝ \n",
      "\t\t\t\t\t\t\t\t\t\t\t\t\t\t\t\t\t\t\t\t\t\t\t\t\t\t\t\t\t\t\t\t \u001b[0m\n",
      "Booting Gandalf v4.1.12-deab022 (production)\n",
      "Loading parameters:  \u001b[32mOK\u001b[0m\n",
      "User xojiyev_i connection: \u001b[32mOK\u001b[0m\n",
      "\n",
      "\n",
      "<MY_MR_CLEAN>\n",
      "Directory . exists: \u001b[32mOK\u001b[0m\n",
      "Pushing exercise: \u001b[32mOK\u001b[0m\n",
      "Printing your report:\n",
      "\n",
      " \u001b[97;1;40m     REPORT      \u001b[0m  \u001b[97mMY MR CLEAN\u001b[0m \n",
      "\n",
      " Status             \u001b[92mSUCCESS\u001b[0m     \n",
      " Execution Runtime  6.703661    \n",
      " Score              [\u001b[32m=\u001b[0m\u001b[32m=\u001b[0m\u001b[32m=\u001b[0m\u001b[32m=\u001b[0m\u001b[33m-\u001b[0m] 4/5 \n",
      "\n",
      "\n",
      "Checks detail Report:\n",
      "\n",
      " \u001b[97;1;40mTEST COUNT FREQUENCY\u001b[0m  \u001b[92mSUCCESS\u001b[0m \n",
      "\n",
      "\n",
      "\n",
      " \u001b[97;1;40mTEST GET CONTENT\u001b[0m  \u001b[92mSUCCESS\u001b[0m \n",
      "\n",
      "\n",
      "\n",
      " \u001b[97;1;40mTEST LOWER COLLECTION\u001b[0m  \u001b[92mSUCCESS\u001b[0m \n",
      "\n",
      "\n",
      "\n",
      " \u001b[97;1;40m TEST MERGE CONTENTS \u001b[0m  \u001b[91m                                FAILURE                                 \u001b[0m \n",
      "\n",
      " Input                                                                                           \n",
      " Expected Output        \"\"                                                                       \n",
      " Expected Return Value                                                                           \n",
      " Output                     def test_merge_contents(self):                                       \n",
      "                                data = eg.get_content(\"Ozone_layer\")                             \n",
      "                                result = eg.merge_contents(data)                                 \n",
      "                                                                                                 \n",
      "                                self.assertTrue(isinstance(result, str))                         \n",
      "                                self.assertTrue(len(re.findall(r'{{cite[^}}]+}}', result)) == 0) \n",
      "                                self.assertTrue(len(re.findall(r'\\[http[^\\]]+]', result) ) == 0) \n",
      "                                self.assertTrue(len(re.findall(r'\\[{2}|\\]{2}', result)) == 0)    \n",
      "                                                                                                 \n",
      " Return Value                                                                                    \n",
      "\n",
      "Your Stderr:\n",
      "'22834'\n",
      "\n",
      " \u001b[97;1;40mTEST TOKENIZE\u001b[0m  \u001b[92mSUCCESS\u001b[0m \n",
      "\n",
      "\n",
      "</MY_MR_CLEAN>\n"
     ]
    }
   ],
   "source": [
    "!gandalf"
   ]
  },
  {
   "cell_type": "code",
   "execution_count": null,
   "id": "dcebdf1c",
   "metadata": {},
   "outputs": [],
   "source": []
  }
 ],
 "metadata": {
  "kernelspec": {
   "display_name": "Python 3",
   "language": "python",
   "name": "python3"
  },
  "language_info": {
   "codemirror_mode": {
    "name": "ipython",
    "version": 3
   },
   "file_extension": ".py",
   "mimetype": "text/x-python",
   "name": "python",
   "nbconvert_exporter": "python",
   "pygments_lexer": "ipython3",
   "version": "3.6.7"
  }
 },
 "nbformat": 4,
 "nbformat_minor": 5
}
